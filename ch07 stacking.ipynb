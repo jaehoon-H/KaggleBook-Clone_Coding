{
 "cells": [
  {
   "cell_type": "code",
   "execution_count": 1,
   "id": "451a5c3c",
   "metadata": {
    "scrolled": true
   },
   "outputs": [],
   "source": [
    "import numpy as np \n",
    "import pandas as pd\n",
    "import import_ipynb"
   ]
  },
  {
   "cell_type": "code",
   "execution_count": 2,
   "id": "0f4f6b38",
   "metadata": {},
   "outputs": [],
   "source": [
    "train= pd.read_csv('input/sample-data/train_preprocessed.csv')\n",
    "train_x= train.drop(['target'],axis=1)\n",
    "train_y= train['target']\n",
    "test_x= pd.read_csv('input/sample-data/test_preprocessed.csv')"
   ]
  },
  {
   "cell_type": "code",
   "execution_count": 3,
   "id": "4aea5ffb",
   "metadata": {},
   "outputs": [],
   "source": [
    "# nn용 데이터\n",
    "train_nn = pd.read_csv('input/sample-data/train_preprocessed_onehot.csv')\n",
    "train_x_nn=train_nn.drop(['target'],axis=1)\n",
    "train_y_nn=train_nn['target']\n",
    "test_x_nn=pd.read_csv('input/sample-data/test_preprocessed_onehot.csv')"
   ]
  },
  {
   "cell_type": "code",
   "execution_count": 4,
   "id": "36164e7e",
   "metadata": {},
   "outputs": [],
   "source": [
    "#stacking\n",
    "from sklearn.metrics import log_loss\n",
    "from sklearn.model_selection import KFold"
   ]
  },
  {
   "cell_type": "code",
   "execution_count": 5,
   "id": "0375ee04",
   "metadata": {},
   "outputs": [
    {
     "name": "stdout",
     "output_type": "stream",
     "text": [
      "importing Jupyter notebook from models.ipynb\n"
     ]
    }
   ],
   "source": [
    "from models import Model1Xgb, Model1NN, Model2Linear"
   ]
  },
  {
   "cell_type": "code",
   "execution_count": 6,
   "id": "f036a733",
   "metadata": {},
   "outputs": [],
   "source": [
    "#학습 데이터에 대한 '목적변수를 모르는' 예측값과 테스트 데이터에 대한 예측값을 반환하는 함수\n",
    "def predict_cv(model, train_x, train_y, test_x):\n",
    "    preds=[]\n",
    "    preds_test=[]\n",
    "    va_idxes=[]\n",
    "    \n",
    "    kf=KFold(n_splits=4, shuffle=True, random_state=71)\n",
    "    \n",
    "    #교차 검증으로 학습/예측하여 예측값과 인덱스를 보존\n",
    "    for i, (tr_idx, va_idx) in enumerate(kf.split(train_x)):\n",
    "        tr_x, va_x = train_x.iloc[tr_idx], train_x.iloc[va_idx]\n",
    "        tr_y, va_y = train_y.iloc[tr_idx], train_y.iloc[va_idx]\n",
    "        model.fit(tr_x, tr_y, va_x, va_y)\n",
    "        pred= model.predict(va_x)\n",
    "        preds.append(pred)\n",
    "        pred_test=model.predict(test_x)\n",
    "        preds_test.append(pred_test)\n",
    "        va_idxes.append(va_idx)\n",
    "    \n",
    "    #검증에 대한 예측값을 연결하고 이후 원래 순서로 정렬\n",
    "    va_idxes= np.concatenate(va_idxes)\n",
    "    preds= np.concatenate(preds, axis=0)\n",
    "    order= np.argsort(va_idxes)\n",
    "    pred_train = preds[order]\n",
    "    \n",
    "    #테스트 데이터에 대한 예측값의 평균 획득\n",
    "    preds_test=np.mean(preds_test, axis=0)\n",
    "    return pred_train, preds_test"
   ]
  },
  {
   "cell_type": "code",
   "execution_count": 7,
   "id": "39b12d5a",
   "metadata": {},
   "outputs": [
    {
     "name": "stdout",
     "output_type": "stream",
     "text": [
      "[0]\ttrain-logloss:0.54088\teval-logloss:0.55003\n",
      "[1]\ttrain-logloss:0.45269\teval-logloss:0.47182\n",
      "[2]\ttrain-logloss:0.39482\teval-logloss:0.42026\n",
      "[3]\ttrain-logloss:0.35197\teval-logloss:0.38520\n",
      "[4]\ttrain-logloss:0.32021\teval-logloss:0.36150\n",
      "[5]\ttrain-logloss:0.29673\teval-logloss:0.34463\n",
      "[6]\ttrain-logloss:0.27610\teval-logloss:0.32900\n",
      "[7]\ttrain-logloss:0.25886\teval-logloss:0.31670\n",
      "[8]\ttrain-logloss:0.24363\teval-logloss:0.30775\n",
      "[9]\ttrain-logloss:0.23153\teval-logloss:0.30092\n",
      "[0]\ttrain-logloss:0.53892\teval-logloss:0.54864\n",
      "[1]\ttrain-logloss:0.45219\teval-logloss:0.47148\n",
      "[2]\ttrain-logloss:0.39574\teval-logloss:0.41997\n",
      "[3]\ttrain-logloss:0.35476\teval-logloss:0.38413\n",
      "[4]\ttrain-logloss:0.32218\teval-logloss:0.35626\n",
      "[5]\ttrain-logloss:0.29945\teval-logloss:0.33910\n",
      "[6]\ttrain-logloss:0.27783\teval-logloss:0.32552\n",
      "[7]\ttrain-logloss:0.26326\teval-logloss:0.31573\n",
      "[8]\ttrain-logloss:0.24780\teval-logloss:0.30592\n",
      "[9]\ttrain-logloss:0.23369\teval-logloss:0.29596\n",
      "[0]\ttrain-logloss:0.54332\teval-logloss:0.55058\n",
      "[1]\ttrain-logloss:0.45437\teval-logloss:0.46830\n",
      "[2]\ttrain-logloss:0.39712\teval-logloss:0.41763\n",
      "[3]\ttrain-logloss:0.35413\teval-logloss:0.38086\n",
      "[4]\ttrain-logloss:0.32187\teval-logloss:0.35824\n",
      "[5]\ttrain-logloss:0.29769\teval-logloss:0.33834\n",
      "[6]\ttrain-logloss:0.27822\teval-logloss:0.32579\n",
      "[7]\ttrain-logloss:0.26050\teval-logloss:0.31308\n",
      "[8]\ttrain-logloss:0.24437\teval-logloss:0.30016\n",
      "[9]\ttrain-logloss:0.23099\teval-logloss:0.29331\n",
      "[0]\ttrain-logloss:0.54165\teval-logloss:0.55012\n",
      "[1]\ttrain-logloss:0.45309\teval-logloss:0.46965\n",
      "[2]\ttrain-logloss:0.39439\teval-logloss:0.41933\n",
      "[3]\ttrain-logloss:0.35366\teval-logloss:0.38286\n",
      "[4]\ttrain-logloss:0.31902\teval-logloss:0.35791\n",
      "[5]\ttrain-logloss:0.29187\teval-logloss:0.33824\n",
      "[6]\ttrain-logloss:0.27289\teval-logloss:0.32628\n",
      "[7]\ttrain-logloss:0.25669\teval-logloss:0.31550\n",
      "[8]\ttrain-logloss:0.23894\teval-logloss:0.30375\n",
      "[9]\ttrain-logloss:0.22701\teval-logloss:0.29646\n",
      "Epoch 1/10\n",
      "59/59 [==============================] - 1s 11ms/step - loss: 0.5223 - val_loss: 0.3908\n",
      "Epoch 2/10\n",
      "59/59 [==============================] - 0s 2ms/step - loss: 0.3711 - val_loss: 0.3806\n",
      "Epoch 3/10\n",
      "59/59 [==============================] - 0s 2ms/step - loss: 0.3342 - val_loss: 0.3713\n",
      "Epoch 4/10\n",
      "59/59 [==============================] - 0s 2ms/step - loss: 0.3340 - val_loss: 0.3648\n",
      "Epoch 5/10\n",
      "59/59 [==============================] - 0s 2ms/step - loss: 0.3204 - val_loss: 0.3546\n",
      "Epoch 6/10\n",
      "59/59 [==============================] - 0s 2ms/step - loss: 0.2856 - val_loss: 0.3359\n",
      "Epoch 7/10\n",
      "59/59 [==============================] - 0s 2ms/step - loss: 0.2524 - val_loss: 0.3166\n",
      "Epoch 8/10\n",
      "59/59 [==============================] - 0s 2ms/step - loss: 0.2188 - val_loss: 0.3045\n",
      "Epoch 9/10\n",
      "59/59 [==============================] - 0s 2ms/step - loss: 0.2070 - val_loss: 0.2890\n",
      "Epoch 10/10\n",
      "59/59 [==============================] - 0s 2ms/step - loss: 0.1857 - val_loss: 0.2946\n"
     ]
    },
    {
     "name": "stderr",
     "output_type": "stream",
     "text": [
      "/Users/hwang/opt/anaconda3/envs/kaggle_practice/lib/python3.8/site-packages/tensorflow/python/keras/engine/sequential.py:425: UserWarning: `model.predict_proba()` is deprecated and will be removed after 2021-01-01. Please use `model.predict()` instead.\n",
      "  warnings.warn('`model.predict_proba()` is deprecated and '\n",
      "/Users/hwang/opt/anaconda3/envs/kaggle_practice/lib/python3.8/site-packages/tensorflow/python/keras/engine/sequential.py:425: UserWarning: `model.predict_proba()` is deprecated and will be removed after 2021-01-01. Please use `model.predict()` instead.\n",
      "  warnings.warn('`model.predict_proba()` is deprecated and '\n"
     ]
    },
    {
     "name": "stdout",
     "output_type": "stream",
     "text": [
      "Epoch 1/10\n",
      "59/59 [==============================] - 0s 4ms/step - loss: 0.4921 - val_loss: 0.3731\n",
      "Epoch 2/10\n",
      "59/59 [==============================] - 0s 2ms/step - loss: 0.3708 - val_loss: 0.3637\n",
      "Epoch 3/10\n",
      "59/59 [==============================] - 0s 2ms/step - loss: 0.3363 - val_loss: 0.3562\n",
      "Epoch 4/10\n",
      "59/59 [==============================] - 0s 2ms/step - loss: 0.3188 - val_loss: 0.3468\n",
      "Epoch 5/10\n",
      "59/59 [==============================] - 0s 2ms/step - loss: 0.2975 - val_loss: 0.3352\n",
      "Epoch 6/10\n",
      "59/59 [==============================] - 0s 2ms/step - loss: 0.2767 - val_loss: 0.3187\n",
      "Epoch 7/10\n",
      "59/59 [==============================] - 0s 2ms/step - loss: 0.2450 - val_loss: 0.3064\n",
      "Epoch 8/10\n",
      "59/59 [==============================] - 0s 2ms/step - loss: 0.2285 - val_loss: 0.2782\n",
      "Epoch 9/10\n",
      "59/59 [==============================] - 0s 2ms/step - loss: 0.1960 - val_loss: 0.2705\n",
      "Epoch 10/10\n",
      "59/59 [==============================] - 0s 2ms/step - loss: 0.1949 - val_loss: 0.2594\n"
     ]
    },
    {
     "name": "stderr",
     "output_type": "stream",
     "text": [
      "/Users/hwang/opt/anaconda3/envs/kaggle_practice/lib/python3.8/site-packages/tensorflow/python/keras/engine/sequential.py:425: UserWarning: `model.predict_proba()` is deprecated and will be removed after 2021-01-01. Please use `model.predict()` instead.\n",
      "  warnings.warn('`model.predict_proba()` is deprecated and '\n",
      "/Users/hwang/opt/anaconda3/envs/kaggle_practice/lib/python3.8/site-packages/tensorflow/python/keras/engine/sequential.py:425: UserWarning: `model.predict_proba()` is deprecated and will be removed after 2021-01-01. Please use `model.predict()` instead.\n",
      "  warnings.warn('`model.predict_proba()` is deprecated and '\n"
     ]
    },
    {
     "name": "stdout",
     "output_type": "stream",
     "text": [
      "Epoch 1/10\n",
      "59/59 [==============================] - 1s 4ms/step - loss: 0.4746 - val_loss: 0.3683\n",
      "Epoch 2/10\n",
      "59/59 [==============================] - 0s 2ms/step - loss: 0.3624 - val_loss: 0.3568\n",
      "Epoch 3/10\n",
      "59/59 [==============================] - 0s 2ms/step - loss: 0.3528 - val_loss: 0.3471\n",
      "Epoch 4/10\n",
      "59/59 [==============================] - 0s 2ms/step - loss: 0.3299 - val_loss: 0.3294\n",
      "Epoch 5/10\n",
      "59/59 [==============================] - 0s 2ms/step - loss: 0.3055 - val_loss: 0.3192\n",
      "Epoch 6/10\n",
      "59/59 [==============================] - 0s 2ms/step - loss: 0.2742 - val_loss: 0.2949\n",
      "Epoch 7/10\n",
      "59/59 [==============================] - 0s 2ms/step - loss: 0.2421 - val_loss: 0.2778\n",
      "Epoch 8/10\n",
      "59/59 [==============================] - 0s 2ms/step - loss: 0.2275 - val_loss: 0.2676\n",
      "Epoch 9/10\n",
      "59/59 [==============================] - 0s 2ms/step - loss: 0.1923 - val_loss: 0.2687\n",
      "Epoch 10/10\n",
      "59/59 [==============================] - 0s 2ms/step - loss: 0.1793 - val_loss: 0.2674\n"
     ]
    },
    {
     "name": "stderr",
     "output_type": "stream",
     "text": [
      "/Users/hwang/opt/anaconda3/envs/kaggle_practice/lib/python3.8/site-packages/tensorflow/python/keras/engine/sequential.py:425: UserWarning: `model.predict_proba()` is deprecated and will be removed after 2021-01-01. Please use `model.predict()` instead.\n",
      "  warnings.warn('`model.predict_proba()` is deprecated and '\n",
      "/Users/hwang/opt/anaconda3/envs/kaggle_practice/lib/python3.8/site-packages/tensorflow/python/keras/engine/sequential.py:425: UserWarning: `model.predict_proba()` is deprecated and will be removed after 2021-01-01. Please use `model.predict()` instead.\n",
      "  warnings.warn('`model.predict_proba()` is deprecated and '\n"
     ]
    },
    {
     "name": "stdout",
     "output_type": "stream",
     "text": [
      "Epoch 1/10\n",
      "59/59 [==============================] - 0s 4ms/step - loss: 0.4720 - val_loss: 0.3707\n",
      "Epoch 2/10\n",
      "59/59 [==============================] - 0s 2ms/step - loss: 0.3627 - val_loss: 0.3652\n",
      "Epoch 3/10\n",
      "59/59 [==============================] - 0s 2ms/step - loss: 0.3486 - val_loss: 0.3521\n",
      "Epoch 4/10\n",
      "59/59 [==============================] - 0s 2ms/step - loss: 0.3138 - val_loss: 0.3469\n",
      "Epoch 5/10\n",
      "59/59 [==============================] - 0s 2ms/step - loss: 0.2990 - val_loss: 0.3434\n",
      "Epoch 6/10\n",
      "59/59 [==============================] - 0s 2ms/step - loss: 0.2656 - val_loss: 0.3250\n",
      "Epoch 7/10\n",
      "59/59 [==============================] - 0s 2ms/step - loss: 0.2536 - val_loss: 0.3184\n",
      "Epoch 8/10\n",
      "59/59 [==============================] - 0s 2ms/step - loss: 0.2187 - val_loss: 0.3093\n",
      "Epoch 9/10\n",
      "59/59 [==============================] - 0s 2ms/step - loss: 0.1909 - val_loss: 0.2957\n",
      "Epoch 10/10\n",
      "59/59 [==============================] - 0s 2ms/step - loss: 0.1797 - val_loss: 0.3034\n"
     ]
    },
    {
     "name": "stderr",
     "output_type": "stream",
     "text": [
      "/Users/hwang/opt/anaconda3/envs/kaggle_practice/lib/python3.8/site-packages/tensorflow/python/keras/engine/sequential.py:425: UserWarning: `model.predict_proba()` is deprecated and will be removed after 2021-01-01. Please use `model.predict()` instead.\n",
      "  warnings.warn('`model.predict_proba()` is deprecated and '\n",
      "/Users/hwang/opt/anaconda3/envs/kaggle_practice/lib/python3.8/site-packages/tensorflow/python/keras/engine/sequential.py:425: UserWarning: `model.predict_proba()` is deprecated and will be removed after 2021-01-01. Please use `model.predict()` instead.\n",
      "  warnings.warn('`model.predict_proba()` is deprecated and '\n"
     ]
    }
   ],
   "source": [
    "#1계층 모델 \n",
    "model_1a = Model1Xgb()\n",
    "pred_train_1a, pred_test_1a = predict_cv(model_1a, train_x, train_y, test_x)\n",
    "\n",
    "model_1b = Model1NN()\n",
    "pred_train_1b,pred_test_1b = predict_cv(model_1b, train_x_nn, train_y_nn, test_x_nn)"
   ]
  },
  {
   "cell_type": "code",
   "execution_count": 8,
   "id": "2add9eae",
   "metadata": {},
   "outputs": [
    {
     "name": "stdout",
     "output_type": "stream",
     "text": [
      "logloss: 0.2967\n",
      "logloss: 0.2812\n"
     ]
    }
   ],
   "source": [
    "# 1계층 모델의 평가\n",
    "print(f'logloss: {log_loss(train_y, pred_train_1a, eps=1e-7):.4f}')\n",
    "print(f'logloss: {log_loss(train_y, pred_train_1b, eps=1e-7):.4f}')"
   ]
  },
  {
   "cell_type": "code",
   "execution_count": 9,
   "id": "95166695",
   "metadata": {},
   "outputs": [],
   "source": [
    "#예측값을 특징으로 데이터 프레임을 작성\n",
    "train_x_2= pd.DataFrame({'pred_1a': pred_train_1a, 'pred_1b': pred_train_1b})\n",
    "test_x_2=pd.DataFrame({'pred_1a': pred_test_1a, 'pred_1b':pred_test_1b})"
   ]
  },
  {
   "cell_type": "code",
   "execution_count": 10,
   "id": "535101b0",
   "metadata": {},
   "outputs": [
    {
     "name": "stdout",
     "output_type": "stream",
     "text": [
      "logloss: 0.2489\n"
     ]
    }
   ],
   "source": [
    "#2계층 모델\n",
    "model_2 = Model2Linear()\n",
    "pred_train_2, pred_test_2 = predict_cv(model_2, train_x_2, train_y, test_x_2)\n",
    "print(f'logloss: {log_loss(train_y, pred_train_2, eps=1e-7):.4f}')"
   ]
  }
 ],
 "metadata": {
  "kernelspec": {
   "display_name": "Python 3",
   "language": "python",
   "name": "python3"
  },
  "language_info": {
   "codemirror_mode": {
    "name": "ipython",
    "version": 3
   },
   "file_extension": ".py",
   "mimetype": "text/x-python",
   "name": "python",
   "nbconvert_exporter": "python",
   "pygments_lexer": "ipython3",
   "version": "3.8.5"
  }
 },
 "nbformat": 4,
 "nbformat_minor": 5
}
