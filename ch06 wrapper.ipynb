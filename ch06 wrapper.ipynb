{
 "cells": [
  {
   "cell_type": "code",
   "execution_count": 1,
   "id": "0bd5b1e1",
   "metadata": {},
   "outputs": [],
   "source": [
    "import numpy as np\n",
    "import pandas as pd"
   ]
  },
  {
   "cell_type": "code",
   "execution_count": 3,
   "id": "17bb4091",
   "metadata": {},
   "outputs": [],
   "source": [
    "train = pd.read_csv('input/sample-data/train_preprocessed.csv')\n",
    "train_x = train.drop(['target'], axis=1)\n",
    "train_y = train['target']\n",
    "test_x = pd.read_csv('input/sample-data/test_preprocessed.csv')"
   ]
  },
  {
   "cell_type": "code",
   "execution_count": 15,
   "id": "02c631af",
   "metadata": {},
   "outputs": [
    {
     "data": {
      "text/plain": [
       "28"
      ]
     },
     "execution_count": 15,
     "metadata": {},
     "output_type": "execute_result"
    }
   ],
   "source": []
  },
  {
   "cell_type": "code",
   "execution_count": 4,
   "id": "7704c8bc",
   "metadata": {},
   "outputs": [],
   "source": [
    "#데이터 나누기\n",
    "from sklearn.model_selection import KFold"
   ]
  },
  {
   "cell_type": "code",
   "execution_count": 5,
   "id": "ed114f24",
   "metadata": {},
   "outputs": [],
   "source": [
    "kf = KFold(n_splits=4, shuffle= True, random_state=71)\n",
    "tr_idx, va_idx = list(kf.split(train_x))[0]\n",
    "tr_x, va_x = train_x.iloc[tr_idx], train_x.iloc[va_idx]\n",
    "tr_y, va_y = train_y.iloc[tr_idx], train_y.iloc[va_idx]"
   ]
  },
  {
   "cell_type": "code",
   "execution_count": 6,
   "id": "bc1ad6f6",
   "metadata": {},
   "outputs": [],
   "source": [
    "import xgboost as xgb\n",
    "from sklearn.metrics import log_loss "
   ]
  },
  {
   "cell_type": "code",
   "execution_count": 11,
   "id": "877606eb",
   "metadata": {},
   "outputs": [],
   "source": [
    "def evaluate(features):\n",
    "    dtrain=xgb.DMatrix(tr_x[features], label = tr_y)\n",
    "    dvalid=xgb.DMatrix(va_x[features], label = va_y)\n",
    "    params = {\n",
    "        'objective':'binary:logistic', \n",
    "        'verbosity':0,\n",
    "        'random_state':71\n",
    "    }\n",
    "    num_rounds= 10 \n",
    "    early_stopping_rounds=3 \n",
    "    watchlist= [(dtrain, 'train'), (dvalid, 'eval')]\n",
    "    model = xgb.train(params, dtrain, num_boost_round= num_rounds, evals=watchlist, \n",
    "                      early_stopping_rounds= early_stopping_rounds, verbose_eval = 0)\n",
    "    va_pred= model.predict(dvalid)\n",
    "    score= log_loss(va_y, va_pred)\n",
    "    \n",
    "    return score"
   ]
  },
  {
   "cell_type": "code",
   "execution_count": 13,
   "id": "8461c90b",
   "metadata": {
    "scrolled": true
   },
   "outputs": [
    {
     "name": "stdout",
     "output_type": "stream",
     "text": [
      "start greedy foward selection\n",
      "selected:medical_info_a1\n",
      "score:0.46387641017735004\n",
      "selected:weight\n",
      "score:0.4346644397482276\n",
      "selected:height\n",
      "score:0.39207130267471074\n",
      "selected:medical_keyword_5\n",
      "score:0.3689590572997928\n",
      "selected:age\n",
      "score:0.353796487686038\n",
      "selected:medical_info_a2\n",
      "score:0.3408690346375108\n",
      "selected:medical_keyword_4\n",
      "score:0.33171506076455115\n",
      "selected:medical_keyword_2\n",
      "score:0.32059751150161026\n",
      "selected:medical_keyword_3\n",
      "score:0.31389863365739584\n",
      "selected:product\n",
      "score:0.3085690851479769\n",
      "selected:sex\n",
      "score:0.30112869956195354\n",
      "[('amount', 0.30131632409468295), ('medical_info_a3', 0.3061165024027228), ('medical_info_b1', 0.30117190991044046), ('medical_info_b2', 0.30356837757155297), ('medical_info_b3', 0.3087691929370165), ('medical_info_c1', 0.304236499273777), ('medical_info_c2', 0.30205987977683546), ('medical_keyword_1', 0.30562242489010094), ('medical_keyword_6', 0.30512450097352267), ('medical_keyword_7', 0.30119360735565426), ('medical_keyword_8', 0.30112869956195354), ('medical_keyword_9', 0.30290535264611246), ('medical_keyword_10', 0.30112869956195354), ('year', 0.3060454836860299), ('month', 0.30965311226695774), ('day', 0.3080382188051939), ('yearmonth', 0.3046254281744361)]\n"
     ]
    }
   ],
   "source": [
    "#Greedy foward selection \n",
    "best_score= 9999.0\n",
    "selected = set([])\n",
    "\n",
    "print('start greedy foward selection')\n",
    "\n",
    "while True:\n",
    "    if len(selected)==len(train_x.columns):\n",
    "        break # 모든 특징이 선택되어 종료\n",
    "    \n",
    "    scores= []\n",
    "    for feature in train_x.columns:\n",
    "        if feature not in selected:\n",
    "            #특징의 리스트에 대해서 정도를 평가하는 evaluate 함수로 수행 \n",
    "            fs =list(selected)+[feature]\n",
    "            score=evaluate(fs)\n",
    "            scores.append((feature, score))\n",
    "    #점수는 낮은 쪽이 좋다고 가정\n",
    "    b_feature, b_score = sorted(scores, key=lambda tpl:tpl[1])[0]\n",
    "    if b_score< best_score:\n",
    "        selected.add(b_feature)\n",
    "        best_score=b_score\n",
    "        print(f'selected:{b_feature}')\n",
    "        print(f'score:{b_score}')\n",
    "    else:\n",
    "        break #어떤 특징을 추가해도 점수가 오르지 않으므로 종료 "
   ]
  },
  {
   "cell_type": "code",
   "execution_count": 14,
   "id": "09822cf8",
   "metadata": {},
   "outputs": [
    {
     "data": {
      "text/plain": [
       "17"
      ]
     },
     "execution_count": 14,
     "metadata": {},
     "output_type": "execute_result"
    }
   ],
   "source": [
    "len(scores)"
   ]
  },
  {
   "cell_type": "code",
   "execution_count": null,
   "id": "d39aef4e",
   "metadata": {},
   "outputs": [],
   "source": []
  }
 ],
 "metadata": {
  "kernelspec": {
   "display_name": "Python 3",
   "language": "python",
   "name": "python3"
  },
  "language_info": {
   "codemirror_mode": {
    "name": "ipython",
    "version": 3
   },
   "file_extension": ".py",
   "mimetype": "text/x-python",
   "name": "python",
   "nbconvert_exporter": "python",
   "pygments_lexer": "ipython3",
   "version": "3.8.5"
  }
 },
 "nbformat": 4,
 "nbformat_minor": 5
}
