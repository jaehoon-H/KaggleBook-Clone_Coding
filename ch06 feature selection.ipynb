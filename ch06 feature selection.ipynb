{
 "cells": [
  {
   "cell_type": "code",
   "execution_count": 12,
   "id": "5e93641c",
   "metadata": {},
   "outputs": [],
   "source": [
    "import numpy as np \n",
    "import pandas as pd "
   ]
  },
  {
   "cell_type": "code",
   "execution_count": 13,
   "id": "b3396822",
   "metadata": {},
   "outputs": [],
   "source": [
    "train = pd.read_csv('input/sample-data/train_preprocessed_onehot.csv')\n",
    "train_x = train.drop(['target'], axis=1)\n",
    "train_y = train['target']\n",
    "test_x = pd.read_csv('input/sample-data/test_preprocessed_onehot.csv')"
   ]
  },
  {
   "cell_type": "code",
   "execution_count": 14,
   "id": "a5ce5d2d",
   "metadata": {},
   "outputs": [
    {
     "name": "stdout",
     "output_type": "stream",
     "text": [
      "['medical_info_a1' 'medical_keyword_5' 'medical_keyword_4'\n",
      " 'medical_keyword_3' 'age'] [0.21805214 0.21368557 0.18109642 0.16723961 0.15155308]\n",
      "['medical_info_a1' 'medical_keyword_5' 'medical_keyword_4'\n",
      " 'medical_keyword_3' 'age'] [0.22182331 0.21368557 0.18109642 0.16723961 0.15170291]\n"
     ]
    }
   ],
   "source": [
    "#상관계수\n",
    "\n",
    "import scipy.stats as st\n",
    "\n",
    "# 상관계수\n",
    "corrs = []\n",
    "for c in train_x.columns:\n",
    "    corr = np.corrcoef(train_x[c], train_y)[0, 1]\n",
    "    corrs.append(corr)\n",
    "corrs = np.array(corrs)\n",
    "\n",
    "# 스피어만 상관계수\n",
    "corrs_sp = []\n",
    "for c in train_x.columns:\n",
    "    corr_sp = st.spearmanr(train_x[c], train_y).correlation\n",
    "    corrs_sp.append(corr_sp)\n",
    "corrs_sp = np.array(corrs_sp)\n",
    "\n",
    "# 중요도의 상위를 출력(상위 5개까지).\n",
    "# np.argsort을 사용하여 값의 순서대로 나열한 인덱스를 취득할 수 있음\n",
    "idx = np.argsort(np.abs(corrs))[::-1]\n",
    "top_cols, top_importances = train_x.columns.values[idx][:5], corrs[idx][:5]\n",
    "print(top_cols, top_importances)\n",
    "\n",
    "idx2 = np.argsort(np.abs(corrs_sp))[::-1]\n",
    "top_cols2, top_importances2 = train_x.columns.values[idx][:5], corrs_sp[idx][:5]\n",
    "print(top_cols2, top_importances2)\n"
   ]
  },
  {
   "cell_type": "code",
   "execution_count": 15,
   "id": "3eb96bc0",
   "metadata": {},
   "outputs": [],
   "source": [
    "#카이제곱 교차분석\n",
    "from sklearn.feature_selection import chi2\n",
    "from sklearn.preprocessing import MinMaxScaler\n",
    "\n",
    "x = MinMaxScaler().fit_transform(train_x)\n",
    "c2, _ = chi2(x, train_y)"
   ]
  },
  {
   "cell_type": "code",
   "execution_count": 21,
   "id": "d257d186",
   "metadata": {},
   "outputs": [],
   "source": [
    "#중요도의 상윗값을 상위 5개 출력 \n",
    "idx = np.argsort(c2)[::1]\n",
    "top_cols, top_importance= train_x.columns.values[idx][:5], corrs[idx][:5]"
   ]
  },
  {
   "cell_type": "code",
   "execution_count": 22,
   "id": "d71377ba",
   "metadata": {},
   "outputs": [
    {
     "name": "stdout",
     "output_type": "stream",
     "text": [
      "['medical_info_c2' 'medical_info_c2_nan' 'weight' 'medical_keyword_9'\n",
      " 'medical_info_b3_2'] [-0.00061789  0.00140585  0.00437808  0.00132831  0.00180568]\n"
     ]
    }
   ],
   "source": [
    "print(top_cols, top_importance)"
   ]
  },
  {
   "cell_type": "code",
   "execution_count": 23,
   "id": "854cd8f0",
   "metadata": {},
   "outputs": [],
   "source": [
    "from sklearn.feature_selection import mutual_info_classif"
   ]
  },
  {
   "cell_type": "code",
   "execution_count": 24,
   "id": "f8ce6c24",
   "metadata": {},
   "outputs": [
    {
     "name": "stdout",
     "output_type": "stream",
     "text": [
      "['medical_info_a1' 'weight' 'medical_keyword_5' 'age' 'medical_keyword_4'] [0.21805214 0.00437808 0.21368557 0.15155308 0.18109642]\n"
     ]
    }
   ],
   "source": [
    "mi = mutual_info_classif(train_x, train_y)\n",
    "\n",
    "idx= np.argsort(mi)[::-1]\n",
    "top_cols, top_importances = train_x.columns.values[idx][:5] , corrs[idx][:5]\n",
    "print(top_cols, top_importances)"
   ]
  },
  {
   "cell_type": "code",
   "execution_count": 25,
   "id": "e5b1177c",
   "metadata": {},
   "outputs": [],
   "source": [
    "from sklearn.ensemble import RandomForestClassifier"
   ]
  },
  {
   "cell_type": "code",
   "execution_count": 27,
   "id": "2d6c3336",
   "metadata": {},
   "outputs": [],
   "source": [
    "#랜덤포레스트에서의 특징 중요도 체크\n",
    "clf = RandomForestClassifier(n_estimators = 10, random_state=71)\n",
    "clf.fit(train_x, train_y)\n",
    "fi = clf.feature_importances_"
   ]
  },
  {
   "cell_type": "code",
   "execution_count": 28,
   "id": "dd3f431e",
   "metadata": {},
   "outputs": [
    {
     "data": {
      "text/plain": [
       "array([0.07741062, 0.00914882, 0.05367491, 0.11164059, 0.00609836,\n",
       "       0.0048052 , 0.00518323, 0.00223935, 0.00196732, 0.00186235,\n",
       "       0.00321114, 0.00401744, 0.00418637, 0.01653492, 0.00629816,\n",
       "       0.03444259, 0.12604874, 0.07132529, 0.0309084 , 0.0258143 ,\n",
       "       0.0077633 , 0.00698417, 0.00594916, 0.00324167, 0.00454769,\n",
       "       0.00429835, 0.00428034, 0.00318156, 0.0029502 , 0.003341  ,\n",
       "       0.00321712, 0.00425581, 0.00410547, 0.00362206, 0.00424243,\n",
       "       0.00430796, 0.00443656, 0.00343205, 0.00500964, 0.00348451,\n",
       "       0.00357344, 0.02680126, 0.01938766, 0.0083558 , 0.01515688,\n",
       "       0.02703556, 0.02784779, 0.03858065, 0.00856453, 0.00525185,\n",
       "       0.00709796, 0.00785675, 0.00370939, 0.00672877, 0.02725529,\n",
       "       0.03471693, 0.03414546, 0.00936681, 0.00509808])"
      ]
     },
     "execution_count": 28,
     "metadata": {},
     "output_type": "execute_result"
    }
   ],
   "source": [
    "fi"
   ]
  },
  {
   "cell_type": "code",
   "execution_count": 29,
   "id": "7e277013",
   "metadata": {},
   "outputs": [],
   "source": [
    "idx= np.argsort(fi)[::1]"
   ]
  },
  {
   "cell_type": "code",
   "execution_count": 35,
   "id": "d745ff28",
   "metadata": {},
   "outputs": [
    {
     "name": "stdout",
     "output_type": "stream",
     "text": [
      "['product_5' 'product_4' 'product_3' 'medical_info_b3_4'\n",
      " 'medical_info_b3_3'] [0.00186235 0.00196732 0.00223935 0.0029502  0.00318156]\n"
     ]
    }
   ],
   "source": [
    "top_cols, top_importances= train_x.columns.values[idx][:5], fi[idx][:5]\n",
    "print(top_cols, top_importances)"
   ]
  },
  {
   "cell_type": "code",
   "execution_count": null,
   "id": "996d85bd",
   "metadata": {},
   "outputs": [],
   "source": []
  }
 ],
 "metadata": {
  "kernelspec": {
   "display_name": "Python 3",
   "language": "python",
   "name": "python3"
  },
  "language_info": {
   "codemirror_mode": {
    "name": "ipython",
    "version": 3
   },
   "file_extension": ".py",
   "mimetype": "text/x-python",
   "name": "python",
   "nbconvert_exporter": "python",
   "pygments_lexer": "ipython3",
   "version": "3.8.5"
  }
 },
 "nbformat": 4,
 "nbformat_minor": 5
}
