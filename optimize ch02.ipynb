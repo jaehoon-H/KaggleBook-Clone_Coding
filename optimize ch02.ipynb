{
 "cells": [
  {
   "cell_type": "code",
   "execution_count": 2,
   "id": "4ec355cd",
   "metadata": {},
   "outputs": [],
   "source": [
    "import numpy as np \n",
    "import pandas as pd "
   ]
  },
  {
   "cell_type": "code",
   "execution_count": 3,
   "id": "96cff688",
   "metadata": {},
   "outputs": [],
   "source": [
    "#threshold optimize\n",
    "from sklearn.metrics import f1_score\n",
    "from scipy.optimize import minimize"
   ]
  },
  {
   "cell_type": "code",
   "execution_count": 4,
   "id": "ee6cde7b",
   "metadata": {},
   "outputs": [],
   "source": [
    "rand= np.random.RandomState(seed=71)\n",
    "train_y_prob= np.linspace(0,1.0, 10000)"
   ]
  },
  {
   "cell_type": "code",
   "execution_count": 5,
   "id": "a21092ba",
   "metadata": {},
   "outputs": [],
   "source": [
    "train_y= pd.Series(rand.uniform(0.0, 1.0, train_y_prob.size)<train_y_prob)\n",
    "train_pred_prob= np.clip(train_y_prob*np.exp(rand.standard_normal(train_y_prob.shape)*0.3),0.0,1.0) \n",
    "#np.clip(array, min, max): array에 대해 min보다 작은 애들을 min으로, max보다 큰 애들을 max로 바꿔주는 함수 "
   ]
  },
  {
   "cell_type": "code",
   "execution_count": 6,
   "id": "b2a04e9c",
   "metadata": {},
   "outputs": [
    {
     "name": "stdout",
     "output_type": "stream",
     "text": [
      "0.5 0.7224831529507862\n"
     ]
    }
   ],
   "source": [
    "init_threshold=0.5\n",
    "init_score= f1_score(train_y, train_pred_prob>=init_threshold)\n",
    "print(init_threshold, init_score)"
   ]
  },
  {
   "cell_type": "code",
   "execution_count": 8,
   "id": "b4e4fc24",
   "metadata": {},
   "outputs": [
    {
     "name": "stdout",
     "output_type": "stream",
     "text": [
      "0.32324218749999983 0.7557317703844165\n"
     ]
    }
   ],
   "source": [
    "#최적화 목적함수 설정\n",
    "def f1_opt(x):\n",
    "    return -f1_score(train_y, train_pred_prob>=x)\n",
    "result= minimize(f1_opt, x0=np.array([0.5]),method= 'Nelder-Mead') #minimize 함수는 결과값을 dictionary로 반환 {x: value}\n",
    "best_threshold= result['x'].item()\n",
    "best_score= f1_score(train_y, train_pred_prob>=best_threshold)\n",
    "print(best_threshold, best_score)"
   ]
  },
  {
   "cell_type": "code",
   "execution_count": 9,
   "id": "4211f2bb",
   "metadata": {},
   "outputs": [],
   "source": [
    "#f1_score가 0.032 정도 개선되었다. "
   ]
  },
  {
   "cell_type": "code",
   "execution_count": null,
   "id": "e5146f86",
   "metadata": {},
   "outputs": [],
   "source": []
  }
 ],
 "metadata": {
  "kernelspec": {
   "display_name": "Python 3",
   "language": "python",
   "name": "python3"
  },
  "language_info": {
   "codemirror_mode": {
    "name": "ipython",
    "version": 3
   },
   "file_extension": ".py",
   "mimetype": "text/x-python",
   "name": "python",
   "nbconvert_exporter": "python",
   "pygments_lexer": "ipython3",
   "version": "3.8.5"
  }
 },
 "nbformat": 4,
 "nbformat_minor": 5
}
