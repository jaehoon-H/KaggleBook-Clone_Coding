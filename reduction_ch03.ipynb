{
 "cells": [
  {
   "cell_type": "code",
   "execution_count": 5,
   "id": "9f70c5ad",
   "metadata": {},
   "outputs": [],
   "source": [
    "import numpy as np \n",
    "import pandas as pd \n",
    "from sklearn.preprocessing import StandardScaler, MinMaxScaler \n",
    "from sklearn.decomposition import PCA"
   ]
  },
  {
   "cell_type": "code",
   "execution_count": 6,
   "id": "514b8d89",
   "metadata": {},
   "outputs": [],
   "source": [
    "train = pd.read_csv('input/sample-data/train_preprocessed_onehot.csv')\n",
    "train_x= train.drop(['target'],axis=1)\n",
    "train_y= train['target']\n",
    "test_x= pd.read_csv('input/sample-data/test_preprocessed_onehot.csv')"
   ]
  },
  {
   "cell_type": "code",
   "execution_count": 7,
   "id": "1a2a1186",
   "metadata": {},
   "outputs": [],
   "source": [
    "train_x_saved= train_x.copy()\n",
    "test_x_saved=test_x.copy()"
   ]
  },
  {
   "cell_type": "code",
   "execution_count": 8,
   "id": "e90509da",
   "metadata": {},
   "outputs": [],
   "source": [
    "#학습/테스트 데이터 표준화\n",
    "def load_standarized_data():\n",
    "    train_x, test_x=train_x_saved.copy(), test_x_saved.copy()\n",
    "    \n",
    "    scaler=StandardScaler()\n",
    "    scaler.fit(train_x)\n",
    "    train_x=scaler.transform(train_x)\n",
    "    test_x=scaler.transform(test_x)\n",
    "    return pd.DataFrame(train_x), pd.DataFrame(test_x)"
   ]
  },
  {
   "cell_type": "code",
   "execution_count": 9,
   "id": "dd8abb69",
   "metadata": {},
   "outputs": [],
   "source": [
    "#min-max scaling \n",
    "def load_minmax_scaled_data():\n",
    "    train_x, test_x=train_x_saved.copy(), test_x_saved.copy()\n",
    "    \n",
    "    scaler= MinMaxScaler()\n",
    "    scaler.fit(pd.concat([train_x, test_x], axis=0))\n",
    "    train_x = scaler.transform(train_x)\n",
    "    test_x= scaler.transform(test_x)\n",
    "    \n",
    "    return pd.DataFrame(train_x), pd.DataFrame(test_x)\n",
    "    "
   ]
  },
  {
   "cell_type": "code",
   "execution_count": 10,
   "id": "9535f10b",
   "metadata": {},
   "outputs": [],
   "source": [
    "train_x, test_x =load_standarized_data()"
   ]
  },
  {
   "cell_type": "code",
   "execution_count": 11,
   "id": "f1ca4ddc",
   "metadata": {},
   "outputs": [],
   "source": [
    "#데이터는 표준화 등의 스케일을 갖추기 위한 전처리가 이루어져야 함 \n",
    "#학습 데이터를 기반으로 pca 정의 \n",
    "pca= PCA(n_components=5)\n",
    "pca.fit(train_x)\n",
    "train_x= pca.transform(train_x)\n",
    "test_x= pca.transform(test_x)"
   ]
  },
  {
   "cell_type": "code",
   "execution_count": 12,
   "id": "639048fc",
   "metadata": {},
   "outputs": [],
   "source": [
    "train_x, test_x = load_standarized_data()"
   ]
  },
  {
   "cell_type": "code",
   "execution_count": 13,
   "id": "6c6a8790",
   "metadata": {},
   "outputs": [],
   "source": [
    "from sklearn.decomposition import TruncatedSVD"
   ]
  },
  {
   "cell_type": "code",
   "execution_count": 14,
   "id": "723425c2",
   "metadata": {},
   "outputs": [
    {
     "data": {
      "text/plain": [
       "TruncatedSVD(n_components=5, random_state=71)"
      ]
     },
     "execution_count": 14,
     "metadata": {},
     "output_type": "execute_result"
    }
   ],
   "source": [
    "svd = TruncatedSVD(n_components=5, random_state=71)\n",
    "svd.fit(train_x)"
   ]
  },
  {
   "cell_type": "code",
   "execution_count": 15,
   "id": "302e7b2d",
   "metadata": {},
   "outputs": [],
   "source": [
    "train_x= svd.transform(train_x)\n",
    "test_x = svd.transform(test_x)"
   ]
  },
  {
   "cell_type": "code",
   "execution_count": 16,
   "id": "bb8898eb",
   "metadata": {},
   "outputs": [],
   "source": [
    "train_x, test_x = load_minmax_scaled_data()"
   ]
  },
  {
   "cell_type": "code",
   "execution_count": 17,
   "id": "df0eb6df",
   "metadata": {},
   "outputs": [],
   "source": [
    "from sklearn.decomposition import NMF"
   ]
  },
  {
   "cell_type": "code",
   "execution_count": 18,
   "id": "ae592d58",
   "metadata": {},
   "outputs": [
    {
     "data": {
      "text/plain": [
       "NMF(init='random', n_components=5, random_state=71)"
      ]
     },
     "execution_count": 18,
     "metadata": {},
     "output_type": "execute_result"
    }
   ],
   "source": [
    "nmf =NMF(n_components= 5, init='random', random_state=71)\n",
    "nmf.fit(train_x)"
   ]
  },
  {
   "cell_type": "code",
   "execution_count": 19,
   "id": "c9631100",
   "metadata": {},
   "outputs": [],
   "source": [
    "train_x= nmf.transform(train_x)\n",
    "test_x= nmf.transform(test_x)"
   ]
  },
  {
   "cell_type": "code",
   "execution_count": 20,
   "id": "35ba9143",
   "metadata": {
    "scrolled": true
   },
   "outputs": [
    {
     "name": "stdout",
     "output_type": "stream",
     "text": [
      "Requirement already satisfied: umap-learn in /Users/hwang/opt/anaconda3/envs/kaggle_practice/lib/python3.8/site-packages (0.5.1)\n",
      "Requirement already satisfied: numba>=0.49 in /Users/hwang/opt/anaconda3/envs/kaggle_practice/lib/python3.8/site-packages (from umap-learn) (0.53.1)\n",
      "Requirement already satisfied: scikit-learn>=0.22 in /Users/hwang/opt/anaconda3/envs/kaggle_practice/lib/python3.8/site-packages (from umap-learn) (0.24.1)\n",
      "Requirement already satisfied: pynndescent>=0.5 in /Users/hwang/opt/anaconda3/envs/kaggle_practice/lib/python3.8/site-packages (from umap-learn) (0.5.2)\n",
      "Requirement already satisfied: numpy>=1.17 in /Users/hwang/opt/anaconda3/envs/kaggle_practice/lib/python3.8/site-packages (from umap-learn) (1.20.2)\n",
      "Requirement already satisfied: scipy>=1.0 in /Users/hwang/opt/anaconda3/envs/kaggle_practice/lib/python3.8/site-packages (from umap-learn) (1.6.2)\n",
      "Requirement already satisfied: setuptools in /Users/hwang/opt/anaconda3/envs/kaggle_practice/lib/python3.8/site-packages (from numba>=0.49->umap-learn) (52.0.0.post20210125)\n",
      "Requirement already satisfied: llvmlite<0.37,>=0.36.0rc1 in /Users/hwang/opt/anaconda3/envs/kaggle_practice/lib/python3.8/site-packages (from numba>=0.49->umap-learn) (0.36.0)\n",
      "Requirement already satisfied: joblib>=0.11 in /Users/hwang/opt/anaconda3/envs/kaggle_practice/lib/python3.8/site-packages (from pynndescent>=0.5->umap-learn) (1.0.1)\n",
      "Requirement already satisfied: threadpoolctl>=2.0.0 in /Users/hwang/opt/anaconda3/envs/kaggle_practice/lib/python3.8/site-packages (from scikit-learn>=0.22->umap-learn) (2.1.0)\n"
     ]
    }
   ],
   "source": [
    "!pip install umap-learn"
   ]
  },
  {
   "cell_type": "code",
   "execution_count": 21,
   "id": "f90b7862",
   "metadata": {},
   "outputs": [],
   "source": [
    "import umap"
   ]
  },
  {
   "cell_type": "code",
   "execution_count": 22,
   "id": "620c92f8",
   "metadata": {},
   "outputs": [],
   "source": [
    "train_x, test_x = load_standarized_data()"
   ]
  },
  {
   "cell_type": "code",
   "execution_count": 23,
   "id": "ee9f068b",
   "metadata": {},
   "outputs": [
    {
     "data": {
      "text/plain": [
       "UMAP(dens_frac=0.0, dens_lambda=0.0)"
      ]
     },
     "execution_count": 23,
     "metadata": {},
     "output_type": "execute_result"
    }
   ],
   "source": [
    "um = umap.UMAP()\n",
    "um.fit(train_x)"
   ]
  },
  {
   "cell_type": "code",
   "execution_count": 24,
   "id": "12f5d58f",
   "metadata": {},
   "outputs": [],
   "source": [
    "train_x = um.transform(train_x)\n",
    "test_x  = um.transform(test_x)"
   ]
  },
  {
   "cell_type": "code",
   "execution_count": 25,
   "id": "9cd1661e",
   "metadata": {},
   "outputs": [],
   "source": [
    "from sklearn.cluster import MiniBatchKMeans"
   ]
  },
  {
   "cell_type": "code",
   "execution_count": 26,
   "id": "84917dfc",
   "metadata": {},
   "outputs": [
    {
     "data": {
      "text/plain": [
       "MiniBatchKMeans(n_clusters=10, random_state=71)"
      ]
     },
     "execution_count": 26,
     "metadata": {},
     "output_type": "execute_result"
    }
   ],
   "source": [
    "km = MiniBatchKMeans(n_clusters =10 , random_state=71)\n",
    "km.fit(train_x)"
   ]
  },
  {
   "cell_type": "code",
   "execution_count": 27,
   "id": "5404cc07",
   "metadata": {},
   "outputs": [],
   "source": [
    "trains_clusters=km.predict(train_x)\n",
    "test_clusters=km.predict(test_x)"
   ]
  },
  {
   "cell_type": "code",
   "execution_count": 28,
   "id": "4f63d7a1",
   "metadata": {},
   "outputs": [],
   "source": [
    "train_distances= km.transform(train_x)\n",
    "test_distances=km.transform(test_x)"
   ]
  },
  {
   "cell_type": "code",
   "execution_count": null,
   "id": "b504723b",
   "metadata": {},
   "outputs": [],
   "source": []
  }
 ],
 "metadata": {
  "kernelspec": {
   "display_name": "Python 3",
   "language": "python",
   "name": "python3"
  },
  "language_info": {
   "codemirror_mode": {
    "name": "ipython",
    "version": 3
   },
   "file_extension": ".py",
   "mimetype": "text/x-python",
   "name": "python",
   "nbconvert_exporter": "python",
   "pygments_lexer": "ipython3",
   "version": "3.8.5"
  }
 },
 "nbformat": 4,
 "nbformat_minor": 5
}
