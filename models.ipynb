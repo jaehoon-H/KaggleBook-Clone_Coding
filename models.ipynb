{
 "cells": [
  {
   "cell_type": "code",
   "execution_count": 3,
   "id": "55578bf4",
   "metadata": {},
   "outputs": [],
   "source": [
    "import numpy as np \n",
    "import pandas as pd\n",
    "import xgboost as xgb\n",
    "from keras.models import Sequential \n",
    "from keras.layers import Dense, Dropout\n",
    "from sklearn.linear_model import LogisticRegression\n",
    "from sklearn.preprocessing import StandardScaler"
   ]
  },
  {
   "cell_type": "code",
   "execution_count": 4,
   "id": "1ff514d3",
   "metadata": {},
   "outputs": [],
   "source": [
    "import os\n",
    "os.environ['TF_CPP_MIN_LOG_LEVEL'] = '1'\n",
    "import tensorflow as tf\n",
    "tf.compat.v1.logging.set_verbosity(tf.compat.v1.logging.ERROR)"
   ]
  },
  {
   "cell_type": "code",
   "execution_count": 5,
   "id": "b448764b",
   "metadata": {},
   "outputs": [],
   "source": [
    "class Model1Xgb:\n",
    "    def __init__(self):\n",
    "        self.model = None\n",
    "    def fit(self, tr_x, tr_y, va_x, va_y):\n",
    "        params ={\n",
    "            'objective':'binary:logistic',\n",
    "            'verbosity':0, \n",
    "            'random_state':71, \n",
    "            'eval_metrics':'logloss'\n",
    "        }\n",
    "        num_rounds=10 \n",
    "        dtrain = xgb.DMatrix(tr_x, label=tr_y)\n",
    "        dvalid = xgb.DMatrix(va_x, label= va_y)\n",
    "        watchlist = [(dtrain, 'train'), (dvalid, 'eval')]\n",
    "        self.model = xgb.train(params, dtrain, num_rounds, \n",
    "                              evals=watchlist)\n",
    "    def predict(self, x):\n",
    "        data = xgb.DMatrix(x)\n",
    "        pred= self.model.predict(data)\n",
    "        return pred"
   ]
  },
  {
   "cell_type": "code",
   "execution_count": 6,
   "id": "0011bffa",
   "metadata": {},
   "outputs": [],
   "source": [
    "class Model1NN:\n",
    "    def __init__(self):\n",
    "        self.model = None\n",
    "        self.scaler= None\n",
    "    def fit(self, tr_x, tr_y, va_x, va_y):\n",
    "        \n",
    "        batch_size= 128\n",
    "        epochs=10\n",
    "        \n",
    "        self.scaler = StandardScaler()\n",
    "        tr_x =self.scaler.fit_transform(tr_x)\n",
    "        va_x =self.scaler.transform(va_x)\n",
    "        \n",
    "        model = Sequential()\n",
    "        model.add(Dense(256, activation='relu', input_shape=(tr_x.shape[1],)))\n",
    "        model.add(Dropout(0.2))\n",
    "        model.add(Dense(256, activation='relu'))\n",
    "        model.add(Dropout(0.2))\n",
    "        model.add(Dense(1, activation='sigmoid'))\n",
    "        \n",
    "        model.compile(loss='binary_crossentropy', optimizer='adam')\n",
    "        \n",
    "        history= model.fit(tr_x, tr_y, batch_size= batch_size, \n",
    "                           epochs=epochs, verbose=1, validation_data=(va_x, va_y))\n",
    "        self.model =model \n",
    "    def predict(self, x):\n",
    "        x=self.scaler.transform(x)\n",
    "        pred=self.model.predict_proba(x).reshape(-1)\n",
    "        return pred"
   ]
  },
  {
   "cell_type": "code",
   "execution_count": 7,
   "id": "a8ef3108",
   "metadata": {},
   "outputs": [],
   "source": [
    "class Model2Linear:\n",
    "    def __init__(self):\n",
    "        self.model =None\n",
    "        self.scaler= None\n",
    "    def fit(self, tr_x, tr_y, va_x, va_y):\n",
    "        self.scaler= StandardScaler()\n",
    "        tr_x = self.scaler.fit_transform(tr_x)\n",
    "        va_x = self.scaler.transform(va_x) # 없는게 맞는지 의문\n",
    "        \n",
    "        self.model = LogisticRegression(solver='lbfgs', C=1.0)\n",
    "        self.model.fit(tr_x, tr_y)\n",
    "    def predict(self, x):\n",
    "        x=self.scaler.transform(x)\n",
    "        pred= self.model.predict_proba(x)[:,1]\n",
    "        return pred"
   ]
  },
  {
   "cell_type": "code",
   "execution_count": null,
   "id": "c5a2db12",
   "metadata": {},
   "outputs": [],
   "source": []
  },
  {
   "cell_type": "code",
   "execution_count": null,
   "id": "827f1291",
   "metadata": {},
   "outputs": [],
   "source": []
  },
  {
   "cell_type": "code",
   "execution_count": null,
   "id": "94774428",
   "metadata": {},
   "outputs": [],
   "source": []
  },
  {
   "cell_type": "code",
   "execution_count": null,
   "id": "3388d1c3",
   "metadata": {},
   "outputs": [],
   "source": []
  }
 ],
 "metadata": {
  "kernelspec": {
   "display_name": "Python 3",
   "language": "python",
   "name": "python3"
  },
  "language_info": {
   "codemirror_mode": {
    "name": "ipython",
    "version": 3
   },
   "file_extension": ".py",
   "mimetype": "text/x-python",
   "name": "python",
   "nbconvert_exporter": "python",
   "pygments_lexer": "ipython3",
   "version": "3.8.5"
  }
 },
 "nbformat": 4,
 "nbformat_minor": 5
}
