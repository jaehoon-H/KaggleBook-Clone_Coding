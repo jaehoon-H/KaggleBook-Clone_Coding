{
 "cells": [
  {
   "cell_type": "code",
   "execution_count": 1,
   "id": "2f5ac48d",
   "metadata": {},
   "outputs": [],
   "source": [
    "import numpy as np \n",
    "import pandas as pd"
   ]
  },
  {
   "cell_type": "code",
   "execution_count": 2,
   "id": "b2854d48",
   "metadata": {},
   "outputs": [],
   "source": [
    "train = pd.read_csv('input/sample-data/train_preprocessed.csv')\n",
    "train_x= train.drop(['target'], axis= 1)\n",
    "train_y = train['target']\n",
    "test_x = pd.read_csv('input/sample-data/test_preprocessed.csv')"
   ]
  },
  {
   "cell_type": "code",
   "execution_count": 3,
   "id": "a0aa7fb9",
   "metadata": {},
   "outputs": [],
   "source": [
    "#시계열 데이터이며, 시간에 따라 변수 period를 갖는다고 가정\n",
    "train_x['period'] = np.arange(0, len(train_x))//(len(train_x)//4)\n",
    "train_x['period']=np.clip(train_x['period'],0,3)\n",
    "test_x['period']=4"
   ]
  },
  {
   "cell_type": "code",
   "execution_count": 5,
   "id": "3add24fc",
   "metadata": {},
   "outputs": [],
   "source": [
    "#시계열 데이터 홀드아웃 검증방법\n",
    "is_tr =train_x['period']<3\n",
    "is_va=train_x['period']==3\n",
    "tr_x, va_x = train_x[is_tr], train_x[is_va]\n",
    "tr_y, va_y = train_y[is_tr], train_y[is_va]"
   ]
  },
  {
   "cell_type": "code",
   "execution_count": 6,
   "id": "d106da11",
   "metadata": {},
   "outputs": [],
   "source": [
    "# 시계열 데이터 교차 검증 \n",
    "va_period_list= [1,2,3]\n",
    "for va_period in va_period_list:\n",
    "    is_tr = train_x['period']<va_period\n",
    "    is_va = train_x['period']==va_period\n",
    "    tr_x, va_x = train_x[is_tr], train_x[is_va]\n",
    "    tr_y, va_y = train_y[is_tr], train_y[is_va]\n"
   ]
  },
  {
   "cell_type": "code",
   "execution_count": null,
   "id": "1344cfc9",
   "metadata": {},
   "outputs": [],
   "source": []
  }
 ],
 "metadata": {
  "kernelspec": {
   "display_name": "Python 3",
   "language": "python",
   "name": "python3"
  },
  "language_info": {
   "codemirror_mode": {
    "name": "ipython",
    "version": 3
   },
   "file_extension": ".py",
   "mimetype": "text/x-python",
   "name": "python",
   "nbconvert_exporter": "python",
   "pygments_lexer": "ipython3",
   "version": "3.8.5"
  }
 },
 "nbformat": 4,
 "nbformat_minor": 5
}
