{
 "cells": [
  {
   "cell_type": "code",
   "execution_count": 1,
   "id": "c9c6836e",
   "metadata": {},
   "outputs": [],
   "source": [
    "import numpy as np\n",
    "import pandas as pd"
   ]
  },
  {
   "cell_type": "code",
   "execution_count": 2,
   "id": "8336e17a",
   "metadata": {},
   "outputs": [],
   "source": [
    "train= pd.read_csv('input/sample-data/train_preprocessed.csv')\n",
    "train_x= train.drop(['target'], axis=1)\n",
    "train_y =train['target']"
   ]
  },
  {
   "cell_type": "code",
   "execution_count": 3,
   "id": "721fb87a",
   "metadata": {},
   "outputs": [],
   "source": [
    "import xgboost as xgb"
   ]
  },
  {
   "cell_type": "code",
   "execution_count": 4,
   "id": "d3070e1b",
   "metadata": {},
   "outputs": [],
   "source": [
    "# xgboost에서 특징 중요도 선택\n",
    "dtrain = xgb.DMatrix(train_x, label = train_y)\n",
    "params= {\n",
    "    'objective':'binary:logistic',\n",
    "    'verbosity':0,\n",
    "    'random_state':71\n",
    "}\n",
    "num_round=50 \n",
    "model= xgb.train(params, dtrain, num_round)"
   ]
  },
  {
   "cell_type": "code",
   "execution_count": 5,
   "id": "b3e963b7",
   "metadata": {},
   "outputs": [],
   "source": [
    "#상위 중요도 출력- xgboost에서는 다른 방식과는 다르게 model 내장 함수인 get_score를 통해서 파악한다. \n",
    "fscore = model.get_score(importance_type= 'total_gain') #gain을 확인하기 위해선 importance_type을 total_gain으로 설정\n",
    "fscore = sorted([(k,v) for k, v in fscore.items()], key= lambda tpl: tpl[1], reverse=True)"
   ]
  },
  {
   "cell_type": "code",
   "execution_count": 6,
   "id": "c946dc1e",
   "metadata": {},
   "outputs": [
    {
     "name": "stdout",
     "output_type": "stream",
     "text": [
      "[('weight', 2650.4720163139987), ('medical_info_a1', 2217.8253221736177), ('height', 1846.5652936129993), ('age', 1450.8815069542984), ('medical_info_a2', 1139.6175235390003)]\n"
     ]
    }
   ],
   "source": [
    "print(fscore[:5])"
   ]
  },
  {
   "cell_type": "code",
   "execution_count": null,
   "id": "191d13a8",
   "metadata": {},
   "outputs": [],
   "source": []
  }
 ],
 "metadata": {
  "kernelspec": {
   "display_name": "Python 3",
   "language": "python",
   "name": "python3"
  },
  "language_info": {
   "codemirror_mode": {
    "name": "ipython",
    "version": 3
   },
   "file_extension": ".py",
   "mimetype": "text/x-python",
   "name": "python",
   "nbconvert_exporter": "python",
   "pygments_lexer": "ipython3",
   "version": "3.8.5"
  }
 },
 "nbformat": 4,
 "nbformat_minor": 5
}
